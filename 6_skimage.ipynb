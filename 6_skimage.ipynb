{
 "cells": [
  {
   "cell_type": "code",
   "execution_count": null,
   "metadata": {},
   "outputs": [],
   "source": [
    "\"\"\"\n",
    "Introduction to image analysis using scikit-image: https://scikit-image.org/\n",
    "\n",
    "Instructor: Shaina Lu (slu@cshl.edu)\n",
    "2019 URP Data Analysis using Python Course\n",
    "9 July 2019\"\"\""
   ]
  },
  {
   "cell_type": "markdown",
   "metadata": {},
   "source": [
    "# Imports and Globals"
   ]
  },
  {
   "cell_type": "code",
   "execution_count": null,
   "metadata": {},
   "outputs": [],
   "source": [
    "#imports\n",
    "import numpy as np\n",
    "import matplotlib.pyplot as plt\n",
    "%matplotlib inline  \n",
    "from skimage import io, data"
   ]
  },
  {
   "cell_type": "markdown",
   "metadata": {},
   "source": [
    "# Quick review of numpy for images"
   ]
  },
  {
   "cell_type": "markdown",
   "metadata": {},
   "source": [
    "For more on manipulating images in scikit-image, check out: https://scikit-image.org/docs/dev/user_guide/numpy_images.html\n",
    "(This following example is lightly modified form this resource too!)"
   ]
  },
  {
   "cell_type": "markdown",
   "metadata": {},
   "source": [
    "### Load sample data and poke around to understand it"
   ]
  },
  {
   "cell_type": "code",
   "execution_count": null,
   "metadata": {},
   "outputs": [],
   "source": [
    "#get sample data from skimage library\n",
    "camera = data.camera()\n",
    "type(camera)"
   ]
  },
  {
   "cell_type": "code",
   "execution_count": null,
   "metadata": {},
   "outputs": [],
   "source": [
    "#let's see what the image looks like\n",
    "io.imshow(camera)\n",
    "#plt.show()"
   ]
  },
  {
   "cell_type": "code",
   "execution_count": null,
   "metadata": {},
   "outputs": [],
   "source": [
    "#this image is represented as a numpy array\n",
    "print(camera)"
   ]
  },
  {
   "cell_type": "code",
   "execution_count": null,
   "metadata": {},
   "outputs": [],
   "source": [
    "#check shape and size of sample data\n",
    "print(camera.shape)\n",
    "print(camera.size)"
   ]
  },
  {
   "cell_type": "markdown",
   "metadata": {},
   "source": [
    "Note, size is the total number of entries in the numpy array representing the image. In other words, it's the total number of pixels."
   ]
  },
  {
   "cell_type": "code",
   "execution_count": null,
   "metadata": {},
   "outputs": [],
   "source": [
    "#get a basic idea of pixel intenstities\n",
    "print(camera.min())\n",
    "print(camera.max())\n",
    "print(camera.mean())"
   ]
  },
  {
   "cell_type": "markdown",
   "metadata": {},
   "source": [
    "### Indexing the array to manipulate the image"
   ]
  },
  {
   "cell_type": "code",
   "execution_count": null,
   "metadata": {},
   "outputs": [],
   "source": [
    "#indexing a numpy array: (row, column) and origin (0,0) is top-left\n",
    "#get the value of the pixel in the 20th row, and 15th column\n",
    "camera[20,15]"
   ]
  },
  {
   "cell_type": "code",
   "execution_count": null,
   "metadata": {},
   "outputs": [],
   "source": [
    "#make the first 10 rows black using slicing\n",
    "camera[:10] = 0\n",
    "io.imshow(camera)"
   ]
  },
  {
   "cell_type": "code",
   "execution_count": null,
   "metadata": {},
   "outputs": [],
   "source": [
    "#masking- make all pixels less than 87 white\n",
    "mask = camera < 87\n",
    "camera[mask] = 255\n",
    "io.imshow(camera)"
   ]
  },
  {
   "cell_type": "markdown",
   "metadata": {},
   "source": [
    "# Bacterial Cell Segmentation"
   ]
  },
  {
   "cell_type": "markdown",
   "metadata": {},
   "source": [
    "The following exercise was adapted from a course taught by Rob Phillips (CalTech) called \"Physical Biology of the Cell\". We will use microscopy images of a growing E. coli colony over 35 time points. For more information and additonal resources: www.rpgroup.caltech.edu/courses/index.html"
   ]
  },
  {
   "cell_type": "markdown",
   "metadata": {},
   "source": [
    "### Examining an example image"
   ]
  },
  {
   "cell_type": "markdown",
   "metadata": {},
   "source": [
    "Before we begin, please download the data for this section from the GitHub repository under: shainalu/urpcourse19/data/lecture6/colonygrowth"
   ]
  },
  {
   "cell_type": "code",
   "execution_count": null,
   "metadata": {},
   "outputs": [],
   "source": [
    "#file path\n",
    "#note: the file path will vary for each person depending on where you've stored the images\n",
    "infile = \"/home/slu/urpcourse19/data/lecture6/colonygrowth/EcoliGrowth5.tif\""
   ]
  },
  {
   "cell_type": "code",
   "execution_count": null,
   "metadata": {},
   "outputs": [],
   "source": [
    "#read in the image using sk-image\n",
    "img5 = io.imread(infile)"
   ]
  },
  {
   "cell_type": "code",
   "execution_count": null,
   "metadata": {},
   "outputs": [],
   "source": [
    "#remember the image will be represented as an array of pixel intensities\n",
    "img5"
   ]
  },
  {
   "cell_type": "code",
   "execution_count": null,
   "metadata": {},
   "outputs": [],
   "source": [
    "#let's take a look at the image\n",
    "plt.imshow(img5)"
   ]
  },
  {
   "cell_type": "markdown",
   "metadata": {},
   "source": [
    "Note that this is not necessarily the orginial coloring of the image. It is a mapping of the pixel intensities to a default matplotlib color map. So, we can manipulate that color map to give us gray-scale image."
   ]
  },
  {
   "cell_type": "code",
   "execution_count": null,
   "metadata": {},
   "outputs": [],
   "source": [
    "#now let's look at it in gray-scale to simplify the visualization for segementation\n",
    "plt.imshow(img5, cmap=plt.cm.Greys_r)"
   ]
  },
  {
   "cell_type": "markdown",
   "metadata": {},
   "source": [
    "As humans, we can easily see where the bacteria (dark pixels) are compared to the background (light pixels). The computer only sees the numerical intensties of the pixels, which can vary from image to image depending on the light intensity during microscopy imaging. To simplify segementation across multiple images, let's start by normalizing the pixels in a range from 0 to 1 where the darkest pixel would become 0 and the lightest would be 1."
   ]
  },
  {
   "cell_type": "code",
   "execution_count": null,
   "metadata": {},
   "outputs": [],
   "source": [
    "#normalize pixel values from 0 to 1\n",
    "img5_norm = ((img5 - np.min(img5)) / (np.max(img5)-np.min(img5)))"
   ]
  },
  {
   "cell_type": "code",
   "execution_count": null,
   "metadata": {},
   "outputs": [],
   "source": [
    "#look at the normalized image\n",
    "plt.imshow(img5_norm, cmap=plt.cm.Greys_r)"
   ]
  },
  {
   "cell_type": "markdown",
   "metadata": {},
   "source": [
    "Visually, there doesn't seem to be much of a difference between the two images, but let's take a look at the underlying matrix of numbers."
   ]
  },
  {
   "cell_type": "code",
   "execution_count": null,
   "metadata": {},
   "outputs": [],
   "source": [
    "img5_norm"
   ]
  },
  {
   "cell_type": "markdown",
   "metadata": {},
   "source": [
    "Looking at the pixel values, we can now see that the numbers do indeed range from 0 to 1. The images don't change visually, becuase matplotlib maps the range to the color map range."
   ]
  },
  {
   "cell_type": "markdown",
   "metadata": {},
   "source": [
    "Now that we've normalized the image, let's take a look at the distribution of pixel values to get an idea of what pixel values the background and bacteria have."
   ]
  },
  {
   "cell_type": "code",
   "execution_count": null,
   "metadata": {},
   "outputs": [],
   "source": [
    "#histogram of pixel intensities \n",
    "plt.hist(img5_norm.flat, bins=100)\n",
    "plt.xlabel(\"pixel values\")\n",
    "plt.ylabel(\"counts\")\n",
    "plt.show()"
   ]
  },
  {
   "cell_type": "markdown",
   "metadata": {},
   "source": [
    "Let's zoom in on the y-axis to get a closer look at the pixels with low counts."
   ]
  },
  {
   "cell_type": "code",
   "execution_count": null,
   "metadata": {},
   "outputs": [],
   "source": [
    "#zoomed y-axis histogram of pixel intensities \n"
   ]
  },
  {
   "cell_type": "markdown",
   "metadata": {},
   "source": [
    "Looking at the zoomed histogram, we see a subtle bimodal distribution. Let's assume that the lower distribution represents the bacteria (darker pixels are closer to 0) and that the peak at values higher than 0.4 represents the background. So, for this image we will try a threshold of 0.4 to segment the image (i.e. separate the bacteria from the background). Using the thresholding approach, we'll binarize the image by assigning all pixel values below our threhold to 1 and all those above to 0."
   ]
  },
  {
   "cell_type": "code",
   "execution_count": null,
   "metadata": {},
   "outputs": [],
   "source": [
    "#threshold the normalized image\n",
    "threshold = 0.4\n",
    "seg5 = img5_norm < threshold"
   ]
  },
  {
   "cell_type": "code",
   "execution_count": null,
   "metadata": {},
   "outputs": [],
   "source": [
    "#let's take a look at the segementation to see how we did\n",
    "plt.imshow(seg5, cmap=plt.cm.Greys_r)"
   ]
  },
  {
   "cell_type": "markdown",
   "metadata": {},
   "source": [
    "The threshold value of 0.4 looks pretty good here, but feel free to play around with different threholding values to see if you can improve the image segmentation. Another realtively simple way to pick the threshold values is the examine the pixel values by hand of the bacteria and the background."
   ]
  },
  {
   "cell_type": "markdown",
   "metadata": {},
   "source": [
    "### Does this threshold work for another image in the series?"
   ]
  },
  {
   "cell_type": "markdown",
   "metadata": {},
   "source": [
    "Now that we've sucessfully segmented one image in the bacterial series, let's see if the threshold we chose holds up for an second image later in the growth of the colony."
   ]
  },
  {
   "cell_type": "code",
   "execution_count": null,
   "metadata": {},
   "outputs": [],
   "source": [
    "#read in file and show image\n",
    "infile = \"/home/slu/urpcourse19/data/lecture6/colonygrowth/EcoliGrowth35.tif\"\n",
    "#read file\n",
    "\n",
    "#show image in grey scale\n"
   ]
  },
  {
   "cell_type": "code",
   "execution_count": null,
   "metadata": {},
   "outputs": [],
   "source": [
    "#normalize\n"
   ]
  },
  {
   "cell_type": "code",
   "execution_count": null,
   "metadata": {},
   "outputs": [],
   "source": [
    "#segmentation\n",
    "#define threshold\n",
    "\n",
    "#segment normalized image\n",
    "\n",
    "#show image in grew scale\n"
   ]
  },
  {
   "cell_type": "markdown",
   "metadata": {},
   "source": [
    "It seems to hold up well enough between the earlier and later images of bacterial colony growth. Feel free to play around with threshold values to find ones that may work better. "
   ]
  },
  {
   "cell_type": "markdown",
   "metadata": {},
   "source": [
    "You may have noticed that we lost some of the lighter cells in the middle of the colony. Binary thresholding for image segementation is one of the simplest techniques for segmentation and in practice only really works for homogenous cells with nice rounded edges. Image segmentation techniques constitutes a whole active area of research. Segementation is especially hard in neuroscience, since neurons have notoriously non-uniform shapes. More sophisticated techniques rely on statistical methods such as watershed segmenation and probabilistic segmentation-- examples of which we discussed in the lecture."
   ]
  },
  {
   "cell_type": "markdown",
   "metadata": {},
   "source": [
    "### Look at all the images in the series and calculate total area of bacteria based on image segmentation"
   ]
  },
  {
   "cell_type": "markdown",
   "metadata": {},
   "source": [
    "Now we will do segementation for all the images in the growth series and plot a growth curve by calculating the total area of bacteria based on the segementation."
   ]
  },
  {
   "cell_type": "code",
   "execution_count": null,
   "metadata": {},
   "outputs": [],
   "source": [
    "#set up for loop to find total area of bacteria for all images\n",
    "threshold = 0.4\n",
    "numimages=35\n",
    "bacterialarea = []\n",
    "for i in range(numimages):\n",
    "    #read in data/images\n",
    "    #get each image name per iteration of loop using string formatting\n",
    "    infile = \"/home/slu/urpcourse19/data/lecture6/colonygrowth/EcoliGrowth%s.tif\" %str(i+1)\n",
    "    currimg = io.imread(infile)\n",
    "    \n",
    "    #normalize image\n",
    "    #currnorm = \n",
    "    \n",
    "    #segmentation\n",
    "    #currseg = \n",
    "    \n",
    "    #calculate the total area of bacteria (number of pixels == 1) and save to the list\n",
    "    currarea = np.sum(currseg)\n",
    "    bacterialarea.append(currarea)"
   ]
  },
  {
   "cell_type": "markdown",
   "metadata": {},
   "source": [
    "Plot a growth curve of the colony"
   ]
  },
  {
   "cell_type": "code",
   "execution_count": null,
   "metadata": {},
   "outputs": [],
   "source": [
    "#make an array representing the timepoints of the images\n",
    "deltatime = 5 #5 minutes between each image\n",
    "totaltime = deltatime * numimages\n",
    "timepoints = range(0,totaltime,deltatime)"
   ]
  },
  {
   "cell_type": "code",
   "execution_count": null,
   "metadata": {},
   "outputs": [],
   "source": [
    "#make a scatter plot of bacterial area (pixels) as a function of time (minutes)\n"
   ]
  },
  {
   "cell_type": "markdown",
   "metadata": {},
   "source": [
    "For those of you familiar with bacterial growth, this indeed looks like the exponential growth phase of bacteria including perhaps a bit of the lag phase at the begining. For those interested, feel free to extend this analysis by rescaling the area. Specifically normalizing so that the bacterial area at time 0 is 1 (i.e. divide the bacterial area of each image by the area of bacteria in the first image). You can further extend this, by fitting an exponential curve. Once you've given it a try, feel free to check out the solution here: www.rpgroup.caltech.edu/be262/code/bacterial_growth.html (note, many of the variable names and some of the code will be different from ours)"
   ]
  },
  {
   "cell_type": "code",
   "execution_count": null,
   "metadata": {},
   "outputs": [],
   "source": []
  }
 ],
 "metadata": {
  "kernelspec": {
   "display_name": "Python 3",
   "language": "python",
   "name": "python3"
  },
  "language_info": {
   "codemirror_mode": {
    "name": "ipython",
    "version": 3
   },
   "file_extension": ".py",
   "mimetype": "text/x-python",
   "name": "python",
   "nbconvert_exporter": "python",
   "pygments_lexer": "ipython3",
   "version": "3.7.1"
  }
 },
 "nbformat": 4,
 "nbformat_minor": 2
}
